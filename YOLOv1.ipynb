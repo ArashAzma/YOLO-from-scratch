{
 "cells": [
  {
   "cell_type": "code",
   "execution_count": 1,
   "metadata": {},
   "outputs": [],
   "source": [
    "import torch\n",
    "import torch.nn as nn\n",
    "import torch.nn.functional as F\n",
    "import torch.optim as optim\n",
    "import numpy as np"
   ]
  },
  {
   "cell_type": "markdown",
   "metadata": {},
   "source": [
    "S x S grid\n",
    "\n",
    "predicitons = S * S * ( B * 5 + C )\n",
    "\n",
    "24 convs + 2 fc\n",
    "\n",
    "pretrain conv on ImageNet\n",
    "\n",
    "input image = 448 * 448\n",
    "\n",
    "output = 7 * 7 * 30"
   ]
  },
  {
   "cell_type": "code",
   "execution_count": null,
   "metadata": {},
   "outputs": [],
   "source": [
    "class ConvLayers(nn.Module):\n",
    "    def __init__(self):\n",
    "        super().__init__()\n",
    "        \n",
    "        self.conv1 = nn.Conv2d(in_channels=3, out_channels=192, kernel_size=7, stride=2, padding=3)  \n",
    "        self.maxpool1 = nn.MaxPool2d(kernel_size=2, stride=2)\n",
    "        \n",
    "        self.conv2 = nn.Conv2d(in_channels=192, out_channels=256, kernel_size=3, padding=1)  \n",
    "        self.maxpool2 = nn.MaxPool2d(kernel_size=2, stride=2)\n",
    "        \n",
    "        self.conv3 = nn.Sequential(\n",
    "            nn.Conv2d(in_channels=256, out_channels=128, kernel_size=1),\n",
    "            nn.Conv2d(in_channels=128, out_channels=256, kernel_size=3, padding=1),  \n",
    "            nn.Conv2d(in_channels=256, out_channels=256, kernel_size=1),\n",
    "            nn.Conv2d(in_channels=256, out_channels=512, kernel_size=3, padding=1)  \n",
    "        )\n",
    "        self.maxpool3 = nn.MaxPool2d(kernel_size=2, stride=2)\n",
    "        \n",
    "        self.conv3_5 = nn.Sequential(\n",
    "            *[nn.Sequential(\n",
    "                nn.Conv2d(in_channels=512, out_channels=256, kernel_size=1),\n",
    "                nn.Conv2d(in_channels=256, out_channels=512, kernel_size=3, padding=1)  \n",
    "            ) for _ in range(4)]\n",
    "        )\n",
    "        \n",
    "        self.conv4 = nn.Sequential(\n",
    "            nn.Conv2d(in_channels=512, out_channels=512, kernel_size=1),\n",
    "            nn.Conv2d(in_channels=512, out_channels=1024, kernel_size=3, padding=1)  \n",
    "        )\n",
    "        self.maxpool4 = nn.MaxPool2d(kernel_size=2, stride=2)\n",
    "        \n",
    "        self.conv4_5 = nn.Sequential(\n",
    "            *[nn.Sequential(\n",
    "                nn.Conv2d(in_channels=1024, out_channels=512, kernel_size=1),\n",
    "                nn.Conv2d(in_channels=512, out_channels=1024, kernel_size=3, padding=1)  \n",
    "            ) for _ in range(2)]\n",
    "        )\n",
    "        \n",
    "        self.conv5 = nn.Sequential(\n",
    "            nn.Conv2d(in_channels=1024, out_channels=1024, kernel_size=3, padding=1),  \n",
    "            nn.Conv2d(in_channels=1024, out_channels=1024, kernel_size=3, stride=2, padding=1)  \n",
    "        )\n",
    "        \n",
    "        self.conv6 = nn.Sequential(\n",
    "            nn.Conv2d(in_channels=1024, out_channels=1024, kernel_size=3, padding=1),  \n",
    "            nn.Conv2d(in_channels=1024, out_channels=1024, kernel_size=3, padding=1)  \n",
    "        )\n",
    "    \n",
    "    def forward(self, x):\n",
    "        x = self.maxpool1(F.relu(self.conv1(x)))\n",
    "        print(\"Shape after conv1 and maxpool1:\", x.shape)\n",
    "        \n",
    "        x = self.maxpool2(F.relu(self.conv2(x)))\n",
    "        print(\"Shape after conv2 and maxpool2:\", x.shape)\n",
    "        \n",
    "        x = self.maxpool3(F.relu(self.conv3(x)))\n",
    "        print(\"Shape after conv3 and maxpool3:\", x.shape)\n",
    "        \n",
    "        x = self.maxpool4(F.relu(self.conv4(x)))\n",
    "        print(\"Shape after conv4 and maxpool4:\", x.shape)\n",
    "        \n",
    "        x = F.relu(self.conv5(x))\n",
    "        print(\"Shape after conv5:\", x.shape)\n",
    "        \n",
    "        x = F.relu(self.conv6(x))\n",
    "        print(\"Shape after conv6:\", x.shape)\n",
    "        \n",
    "        return x"
   ]
  },
  {
   "cell_type": "code",
   "execution_count": 9,
   "metadata": {},
   "outputs": [],
   "source": [
    "class FCLayers(nn.Module):\n",
    "    def __init__(self):\n",
    "        super().__init__()\n",
    "        \n",
    "        self.fc1 = nn.Linear(7*7*1024, 4096)\n",
    "        self.fc2 = nn.Linear(4096, 7*7*30)\n",
    "        \n",
    "    def forward(self, x):\n",
    "        x = x.flatten(start_dim=1)\n",
    "        x = F.gelu(self.fc1(x))\n",
    "        x = self.fc2(x)\n",
    "        return x"
   ]
  },
  {
   "cell_type": "code",
   "execution_count": 10,
   "metadata": {},
   "outputs": [
    {
     "name": "stdout",
     "output_type": "stream",
     "text": [
      "Shape after conv1 and maxpool1: torch.Size([1, 192, 112, 112])\n",
      "Shape after conv2 and maxpool2: torch.Size([1, 256, 56, 56])\n",
      "Shape after conv3 and maxpool3: torch.Size([1, 512, 28, 28])\n",
      "Shape after conv4 and maxpool4: torch.Size([1, 1024, 14, 14])\n",
      "Shape after conv5: torch.Size([1, 1024, 7, 7])\n",
      "Shape after conv6: torch.Size([1, 1024, 7, 7])\n",
      "torch.Size([1, 1024, 7, 7])\n",
      "torch.Size([1, 1470])\n"
     ]
    }
   ],
   "source": [
    "conv = ConvLayers()\n",
    "fc = FCLayers()\n",
    "\n",
    "x = torch.randn(1, 3, 448, 448)\n",
    "x = conv(x)\n",
    "print(x.shape)\n",
    "x = fc(x)\n",
    "print(x.shape)"
   ]
  }
 ],
 "metadata": {
  "kernelspec": {
   "display_name": "Python 3",
   "language": "python",
   "name": "python3"
  },
  "language_info": {
   "codemirror_mode": {
    "name": "ipython",
    "version": 3
   },
   "file_extension": ".py",
   "mimetype": "text/x-python",
   "name": "python",
   "nbconvert_exporter": "python",
   "pygments_lexer": "ipython3",
   "version": "3.11.9"
  }
 },
 "nbformat": 4,
 "nbformat_minor": 2
}
